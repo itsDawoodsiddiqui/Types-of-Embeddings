{
 "cells": [
  {
   "cell_type": "code",
   "execution_count": 1,
   "id": "f6c78516",
   "metadata": {},
   "outputs": [
    {
     "name": "stdout",
     "output_type": "stream",
     "text": [
      "Vocabulary: ['and' 'animals' 'are' 'cats' 'dogs' 'love']\n",
      "Embeddings (first document): [0.         0.         0.         0.70710678 0.         0.70710678]\n",
      "Embedding Shape: (3, 6)\n"
     ]
    }
   ],
   "source": [
    "from sklearn.feature_extraction.text import TfidfVectorizer\n",
    "import numpy as np\n",
    "\n",
    "def get_variable_dimension_embedding(texts):\n",
    "    # Create the TF-IDF vectorizer (this model's dimension depends on the vocabulary)\n",
    "    vectorizer = TfidfVectorizer()\n",
    "    embeddings = vectorizer.fit_transform(texts)\n",
    "    \n",
    "    # Convert sparse matrix to dense form for inspection\n",
    "    dense_embeddings = embeddings.toarray()\n",
    "    \n",
    "    return dense_embeddings, vectorizer.get_feature_names_out()\n",
    "\n",
    "# Example usage\n",
    "corpus = [\n",
    "    \"I love cats\",\n",
    "    \"I love dogs\",\n",
    "    \"Cats and dogs are animals\"\n",
    "]\n",
    "\n",
    "dense_embeddings, vocab = get_variable_dimension_embedding(corpus)\n",
    "\n",
    "print(\"Vocabulary:\", vocab)\n",
    "print(\"Embeddings (first document):\", dense_embeddings[0])\n",
    "print(\"Embedding Shape:\", dense_embeddings.shape)\n"
   ]
  },
  {
   "cell_type": "code",
   "execution_count": null,
   "id": "e6c7656b",
   "metadata": {},
   "outputs": [],
   "source": []
  }
 ],
 "metadata": {
  "kernelspec": {
   "display_name": "embeddings",
   "language": "python",
   "name": "python3"
  },
  "language_info": {
   "codemirror_mode": {
    "name": "ipython",
    "version": 3
   },
   "file_extension": ".py",
   "mimetype": "text/x-python",
   "name": "python",
   "nbconvert_exporter": "python",
   "pygments_lexer": "ipython3",
   "version": "3.12.0"
  }
 },
 "nbformat": 4,
 "nbformat_minor": 5
}
