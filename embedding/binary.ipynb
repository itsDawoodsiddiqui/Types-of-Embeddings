{
 "cells": [
  {
   "cell_type": "code",
   "execution_count": 1,
   "id": "16baeff2",
   "metadata": {},
   "outputs": [
    {
     "name": "stderr",
     "output_type": "stream",
     "text": [
      "e:\\Embeddings\\.venv\\Lib\\site-packages\\tqdm\\auto.py:21: TqdmWarning: IProgress not found. Please update jupyter and ipywidgets. See https://ipywidgets.readthedocs.io/en/stable/user_install.html\n",
      "  from .autonotebook import tqdm as notebook_tqdm\n"
     ]
    },
    {
     "name": "stdout",
     "output_type": "stream",
     "text": [
      "Dense embedding (first 10 values): [ 0.06156418 -0.00534935  0.03507528  0.02186052  0.03829313  0.02570336\n",
      "  0.01258809 -0.05503357 -0.03250899 -0.04791129]\n",
      "Binary embedding (first 10 values): [1 0 1 1 1 1 1 0 0 0]\n",
      "Length of vector: 384\n"
     ]
    }
   ],
   "source": [
    "#Binary Embedding\n",
    "\n",
    "from sentence_transformers import SentenceTransformer\n",
    "import numpy as np\n",
    "\n",
    "# Load a dense embedding model (Hugging Face)\n",
    "model = SentenceTransformer(\"all-MiniLM-L6-v2\")  # 384-dim output\n",
    "        \n",
    "def get_binary_embedding(text: str, threshold: float = 0.0):\n",
    "    # Step 1: Dense embedding\n",
    "    dense_vec = model.encode(text)\n",
    "    # Step 2: Convert to binary (0/1) based on threshold\n",
    "    binary_vec = (dense_vec > threshold).astype(int)\n",
    "    return binary_vec, dense_vec\n",
    "\n",
    "if __name__ == \"__main__\":\n",
    "    sample = \"This is a test sentence for binary embeddings.\"\n",
    "    binary, dense = get_binary_embedding(sample)\n",
    "\n",
    "    print(\"Dense embedding (first 10 values):\", dense[:10])\n",
    "    print(\"Binary embedding (first 10 values):\", binary[:10])\n",
    "    print(\"Length of vector:\", len(binary))\n"
   ]
  }
 ],
 "metadata": {
  "kernelspec": {
   "display_name": "embeddings",
   "language": "python",
   "name": "python3"
  },
  "language_info": {
   "codemirror_mode": {
    "name": "ipython",
    "version": 3
   },
   "file_extension": ".py",
   "mimetype": "text/x-python",
   "name": "python",
   "nbconvert_exporter": "python",
   "pygments_lexer": "ipython3",
   "version": "3.12.0"
  }
 },
 "nbformat": 4,
 "nbformat_minor": 5
}
