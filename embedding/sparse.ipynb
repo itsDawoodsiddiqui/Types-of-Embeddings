{
 "cells": [
  {
   "cell_type": "code",
   "execution_count": 1,
   "id": "efb44726",
   "metadata": {},
   "outputs": [
    {
     "name": "stdout",
     "output_type": "stream",
     "text": [
      "Vocabulary: ['and' 'animals' 'are' 'cats' 'dogs' 'love']\n",
      "Sparse embedding (doc 1): [[0.         0.         0.         0.70710678 0.         0.70710678]]\n",
      "Shape: (3, 6)\n"
     ]
    }
   ],
   "source": [
    "from sklearn.feature_extraction.text import TfidfVectorizer\n",
    "\n",
    "# Example corpus\n",
    "docs = [\n",
    "    \"I love cats\",\n",
    "    \"I love dogs\",\n",
    "    \"Cats and dogs are animals\"\n",
    "]\n",
    "\n",
    "# TF-IDF vectorizer\n",
    "vectorizer = TfidfVectorizer()\n",
    "sparse_matrix = vectorizer.fit_transform(docs)\n",
    "\n",
    "# Feature names (vocabulary terms)\n",
    "print(\"Vocabulary:\", vectorizer.get_feature_names_out())\n",
    "\n",
    "# Sparse embeddings for each doc\n",
    "print(\"Sparse embedding (doc 1):\", sparse_matrix[0].toarray())\n",
    "print(\"Shape:\", sparse_matrix.shape)\n"
   ]
  }
 ],
 "metadata": {
  "kernelspec": {
   "display_name": "embeddings",
   "language": "python",
   "name": "python3"
  },
  "language_info": {
   "codemirror_mode": {
    "name": "ipython",
    "version": 3
   },
   "file_extension": ".py",
   "mimetype": "text/x-python",
   "name": "python",
   "nbconvert_exporter": "python",
   "pygments_lexer": "ipython3",
   "version": "3.12.0"
  }
 },
 "nbformat": 4,
 "nbformat_minor": 5
}
