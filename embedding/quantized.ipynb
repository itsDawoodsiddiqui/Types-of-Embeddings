{
 "cells": [
  {
   "cell_type": "code",
   "execution_count": 1,
   "id": "19364de7",
   "metadata": {},
   "outputs": [
    {
     "name": "stderr",
     "output_type": "stream",
     "text": [
      "e:\\Other Practice\\.venv\\Lib\\site-packages\\tqdm\\auto.py:21: TqdmWarning: IProgress not found. Please update jupyter and ipywidgets. See https://ipywidgets.readthedocs.io/en/stable/user_install.html\n",
      "  from .autonotebook import tqdm as notebook_tqdm\n"
     ]
    },
    {
     "name": "stdout",
     "output_type": "stream",
     "text": [
      "Quantized Embedding: [0 0 1 0 1 0 0 0 1 1 0 1 1 0 0 1 0 1 0 0 0 0 0 1 1 1 1 0 0 0 1 1 1 1 0 1 1\n",
      " 1 1 1 0 1 1 1 1 1 0 0 1 1 0 0 0 0 0 1 1 0 1 0 1 0 0 1 1 1 1 1 0 0 0 1 1 1\n",
      " 1 1 1 1 1 1 1 0 1 1 1 0 0 1 0 0 0 1 0 0 0 1 0 0 0 1 0 0 1 1 0 0 0 0 1 0 0\n",
      " 1 1 0 1 1 1 1 1 1 0 1 0 1 1 0 0 0 0 0 1 1 1 0 0 0 0 0 0 1 0 1 1 1 0 1 0 0\n",
      " 0 0 1 1 0 1 1 0 1 1 0 1 0 1 0 0 0 0 1 1 1 0 1 0 0 1 1 0 1 0 0 0 1 1 1 1 1\n",
      " 0 0 0 1 1 1 1 0 1 1 1 1 1 0 1 1 0 1 0 1 0 0 0 0 0 1 0 1 0 0 0 0 0 0 0 1 1\n",
      " 0 1 0 1 1 1 0 1 0 1 1 1 1 1 0 1 0 1 0 1 0 0 0 1 0 1 0 1 0 1 1 1 0 1 0 0 0\n",
      " 1 0 0 0 1 1 1 1 0 0 0 0 0 1 0 0 1 1 0 0 1 1 1 1 1 0 0 1 1 1 0 1 0 0 0 1 1\n",
      " 0 1 0 0 1 0 0 0 1 0 1 1 1 1 1 0 0 1 0 1 0 1 0 0 0 0 1 0 1 1 0 1 0 0 1 1 0\n",
      " 1 1 1 1 1 0 1 0 1 1 1 1 0 1 1 1 1 0 1 1 1 1 1 0 0 0 0 0 1 0 0 0 1 1 0 1 1\n",
      " 1 1 1 1 1 1 1 0 1 1 1 1 0 0]\n"
     ]
    }
   ],
   "source": [
    "from sentence_transformers import SentenceTransformer\n",
    "import numpy as np\n",
    "\n",
    "# Load the model\n",
    "model = SentenceTransformer('all-MiniLM-L6-v2')\n",
    "\n",
    "def get_quantized_embedding(text: str):\n",
    "    # Generate dense embedding\n",
    "    dense_embedding = model.encode(text)\n",
    "    \n",
    "    # Simple quantization (convert values greater than 0 to 1, else 0)\n",
    "    binary_embedding = (dense_embedding > 0).astype(int)\n",
    "    \n",
    "    return binary_embedding\n",
    "\n",
    "# Example usage\n",
    "text = \"I love machine learning!\"\n",
    "quantized_embedding = get_quantized_embedding(text)\n",
    "\n",
    "print(\"Quantized Embedding:\", quantized_embedding)\n"
   ]
  }
 ],
 "metadata": {
  "kernelspec": {
   "display_name": "embeddings",
   "language": "python",
   "name": "python3"
  },
  "language_info": {
   "codemirror_mode": {
    "name": "ipython",
    "version": 3
   },
   "file_extension": ".py",
   "mimetype": "text/x-python",
   "name": "python",
   "nbconvert_exporter": "python",
   "pygments_lexer": "ipython3",
   "version": "3.12.0"
  }
 },
 "nbformat": 4,
 "nbformat_minor": 5
}
