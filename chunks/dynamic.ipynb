{
 "cells": [
  {
   "cell_type": "code",
   "execution_count": 1,
   "id": "f9a575a0",
   "metadata": {},
   "outputs": [
    {
     "name": "stdout",
     "output_type": "stream",
     "text": [
      "Chunk 1: Artificial Intelligence is transforming industries. Machine learning is a core\n",
      "Chunk 2: part of AI. Deep learning is used in image and\n",
      "Chunk 3: speech recognition.\n"
     ]
    }
   ],
   "source": [
    "def simple_chunk(text, max_words=10):\n",
    "    words = text.split()   # Document ko words mein tod do\n",
    "    chunks = []\n",
    "\n",
    "    # Words ko max_words ke group mein split kar do\n",
    "    for i in range(0, len(words), max_words):\n",
    "        chunk = \" \".join(words[i:i+max_words])\n",
    "        chunks.append(chunk)\n",
    "\n",
    "    return chunks\n",
    "\n",
    "# Example usage\n",
    "doc = \"Artificial Intelligence is transforming industries. Machine learning is a core part of AI. Deep learning is used in image and speech recognition.\"\n",
    "chunks = simple_chunk(doc, max_words=10)\n",
    "\n",
    "# Print the chunks\n",
    "for idx, c in enumerate(chunks, 1):\n",
    "    print(f\"Chunk {idx}: {c}\")\n"
   ]
  }
 ],
 "metadata": {
  "kernelspec": {
   "display_name": "embeddings",
   "language": "python",
   "name": "python3"
  },
  "language_info": {
   "codemirror_mode": {
    "name": "ipython",
    "version": 3
   },
   "file_extension": ".py",
   "mimetype": "text/x-python",
   "name": "python",
   "nbconvert_exporter": "python",
   "pygments_lexer": "ipython3",
   "version": "3.12.0"
  }
 },
 "nbformat": 4,
 "nbformat_minor": 5
}
