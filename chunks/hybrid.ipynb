{
 "cells": [
  {
   "cell_type": "code",
   "execution_count": 1,
   "id": "0e40d65a",
   "metadata": {},
   "outputs": [
    {
     "name": "stdout",
     "output_type": "stream",
     "text": [
      "Chunk 1: AI is transforming industries. Machine learning is core.\n",
      "Chunk 2: Deep learning is used in image recognition.\n"
     ]
    }
   ],
   "source": [
    "import re\n",
    "\n",
    "def hybrid_chunking(text, max_words=10):\n",
    "    # Step 1: Split text into sentences\n",
    "    sentences = re.split(r'(?<=[.!?]) +', text)\n",
    "    \n",
    "    chunks = []\n",
    "    current_chunk = []\n",
    "\n",
    "    for sentence in sentences:\n",
    "        words = sentence.split()\n",
    "        if len(current_chunk) + len(words) <= max_words:\n",
    "            current_chunk += words\n",
    "        else:\n",
    "            # Add current chunk to chunks\n",
    "            chunks.append(' '.join(current_chunk))\n",
    "            current_chunk = words  # Start new chunk with this sentence\n",
    "\n",
    "    if current_chunk:\n",
    "        chunks.append(' '.join(current_chunk))\n",
    "\n",
    "    return chunks\n",
    "\n",
    "# Example usage\n",
    "doc = \"AI is transforming industries. Machine learning is core. Deep learning is used in image recognition.\"\n",
    "chunks = hybrid_chunking(doc, max_words=10)\n",
    "\n",
    "for idx, c in enumerate(chunks, 1):\n",
    "    print(f\"Chunk {idx}: {c}\")\n"
   ]
  }
 ],
 "metadata": {
  "kernelspec": {
   "display_name": "embeddings",
   "language": "python",
   "name": "python3"
  },
  "language_info": {
   "codemirror_mode": {
    "name": "ipython",
    "version": 3
   },
   "file_extension": ".py",
   "mimetype": "text/x-python",
   "name": "python",
   "nbconvert_exporter": "python",
   "pygments_lexer": "ipython3",
   "version": "3.12.0"
  }
 },
 "nbformat": 4,
 "nbformat_minor": 5
}
