{
 "cells": [
  {
   "cell_type": "code",
   "execution_count": null,
   "id": "65f4d41e",
   "metadata": {},
   "outputs": [
    {
     "name": "stdout",
     "output_type": "stream",
     "text": [
      "Most Relevant Chunk: AI is transforming industries. Machine learning is core. Deep learning\n"
     ]
    }
   ],
   "source": [
    "from sklearn.feature_extraction.text import TfidfVectorizer\n",
    "from sklearn.metrics.pairwise import cosine_similarity\n",
    "\n",
    "def query_aware_chunks_simple(document, query, max_words=10):\n",
    "    # Simple chunking\n",
    "    words = document.split()\n",
    "    chunks = [\" \".join(words[i:i+max_words]) for i in range(0, len(words), max_words)]\n",
    "    \n",
    "    # TF-IDF vectors\n",
    "    vectorizer = TfidfVectorizer()\n",
    "    chunk_vectors = vectorizer.fit_transform(chunks)\n",
    "    query_vector = vectorizer.transform([query])\n",
    "    \n",
    "    # Cosine similarity\n",
    "    scores = cosine_similarity(query_vector, chunk_vectors)[0]\n",
    "    \n",
    "    # Select the most relevant chunk\n",
    "    best_idx = scores.argmax()\n",
    "    return chunks[best_idx]\n",
    "\n",
    "\n",
    "# Example\n",
    "doc = \"AI is transforming industries. Machine learning is core. Deep learning is used in vision and speech recognition.\"\n",
    "query = \"core part of AI\" \n",
    "\n",
    "best_chunk = query_aware_chunks_simple(doc, query)\n",
    "print(\"Most Relevant Chunk:\", best_chunk)\n"
   ]
  },
  {
   "cell_type": "code",
   "execution_count": null,
   "id": "08feb3a9",
   "metadata": {},
   "outputs": [],
   "source": []
  }
 ],
 "metadata": {
  "kernelspec": {
   "display_name": "embeddings",
   "language": "python",
   "name": "python3"
  },
  "language_info": {
   "codemirror_mode": {
    "name": "ipython",
    "version": 3
   },
   "file_extension": ".py",
   "mimetype": "text/x-python",
   "name": "python",
   "nbconvert_exporter": "python",
   "pygments_lexer": "ipython3",
   "version": "3.12.0"
  }
 },
 "nbformat": 4,
 "nbformat_minor": 5
}
