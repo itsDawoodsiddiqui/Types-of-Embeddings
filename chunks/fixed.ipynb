{
 "cells": [
  {
   "cell_type": "code",
   "execution_count": 1,
   "id": "051adb5e",
   "metadata": {},
   "outputs": [
    {
     "name": "stdout",
     "output_type": "stream",
     "text": [
      "Chunk 1: AI is changing the world.\n",
      "Chunk 2: Machine learning is core. Deep\n",
      "Chunk 3: learning is used in vision.\n"
     ]
    }
   ],
   "source": [
    "def fixed_size_chunk(text, chunk_size=5):\n",
    "    words = text.split()\n",
    "    # Simple list comprehension to create chunks\n",
    "    chunks = [\" \".join(words[i:i+chunk_size]) for i in range(0, len(words), chunk_size)]\n",
    "    return chunks\n",
    "\n",
    "# Example usage\n",
    "doc = \"AI is changing the world. Machine learning is core. Deep learning is used in vision.\"\n",
    "chunks = fixed_size_chunk(doc, chunk_size=5)\n",
    "\n",
    "for idx, c in enumerate(chunks, 1):\n",
    "    print(f\"Chunk {idx}: {c}\")\n"
   ]
  }
 ],
 "metadata": {
  "kernelspec": {
   "display_name": "embeddings",
   "language": "python",
   "name": "python3"
  },
  "language_info": {
   "codemirror_mode": {
    "name": "ipython",
    "version": 3
   },
   "file_extension": ".py",
   "mimetype": "text/x-python",
   "name": "python",
   "nbconvert_exporter": "python",
   "pygments_lexer": "ipython3",
   "version": "3.12.0"
  }
 },
 "nbformat": 4,
 "nbformat_minor": 5
}
