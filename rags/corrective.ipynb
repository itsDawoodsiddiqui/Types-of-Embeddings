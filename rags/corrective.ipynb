{
 "cells": [
  {
   "cell_type": "code",
   "execution_count": 1,
   "id": "68a1d782",
   "metadata": {},
   "outputs": [
    {
     "name": "stderr",
     "output_type": "stream",
     "text": [
      "e:\\Other Practice\\.venv\\Lib\\site-packages\\tqdm\\auto.py:21: TqdmWarning: IProgress not found. Please update jupyter and ipywidgets. See https://ipywidgets.readthedocs.io/en/stable/user_install.html\n",
      "  from .autonotebook import tqdm as notebook_tqdm\n"
     ]
    },
    {
     "name": "stdout",
     "output_type": "stream",
     "text": [
      "Query: What is a core part of AI?\n",
      "Corrective RAG Answer: Machine learning is a core part of AI. AI is transforming many industries.\n"
     ]
    }
   ],
   "source": [
    "from sentence_transformers import SentenceTransformer\n",
    "from sklearn.metrics.pairwise import cosine_similarity\n",
    "import numpy as np\n",
    "\n",
    "# Load embedding model\n",
    "model = SentenceTransformer('all-MiniLM-L6-v2')\n",
    "\n",
    "# Sample document store\n",
    "documents = [\n",
    "    \"Machine learning is a core part of AI.\",\n",
    "    \"Deep learning is used in image recognition.\",\n",
    "    \"AI is transforming many industries.\"\n",
    "]\n",
    "\n",
    "# Precompute embeddings\n",
    "doc_embeddings = [model.encode(doc) for doc in documents]\n",
    "\n",
    "# Function: Corrective RAG\n",
    "def corrective_rag(query, top_k=1):\n",
    "    # Step 1: Generate query embedding\n",
    "    query_emb = model.encode(query)\n",
    "    \n",
    "    # Step 2: Compute similarity with all documents\n",
    "    scores = [cosine_similarity([query_emb], [doc_emb])[0][0] for doc_emb in doc_embeddings]\n",
    "    \n",
    "    # Step 3: Select top-k relevant documents\n",
    "    top_indices = np.argsort(scores)[-top_k:][::-1]\n",
    "    retrieved_docs = [documents[i] for i in top_indices]\n",
    "    \n",
    "    # Step 4: Generate initial answer (simplified as concatenation)\n",
    "    initial_answer = \" \".join(retrieved_docs)\n",
    "    \n",
    "    # Step 5: Apply correction (simplified rule-based example)\n",
    "    corrected_answer = initial_answer.replace(\"Deep learning is used\", \"Deep learning is commonly used\")\n",
    "    \n",
    "    return corrected_answer\n",
    "\n",
    "# Example usage\n",
    "query = \"What is a core part of AI?\"\n",
    "answer = corrective_rag(query, top_k=2)\n",
    "\n",
    "print(\"Query:\", query)\n",
    "print(\"Corrective RAG Answer:\", answer)\n"
   ]
  },
  {
   "cell_type": "code",
   "execution_count": null,
   "id": "fbde365a",
   "metadata": {},
   "outputs": [],
   "source": []
  }
 ],
 "metadata": {
  "kernelspec": {
   "display_name": "embeddings",
   "language": "python",
   "name": "python3"
  },
  "language_info": {
   "codemirror_mode": {
    "name": "ipython",
    "version": 3
   },
   "file_extension": ".py",
   "mimetype": "text/x-python",
   "name": "python",
   "nbconvert_exporter": "python",
   "pygments_lexer": "ipython3",
   "version": "3.12.0"
  }
 },
 "nbformat": 4,
 "nbformat_minor": 5
}
