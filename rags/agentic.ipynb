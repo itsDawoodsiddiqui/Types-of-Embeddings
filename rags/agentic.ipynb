{
 "cells": [
  {
   "cell_type": "code",
   "execution_count": null,
   "id": "2845efe0",
   "metadata": {},
   "outputs": [
    {
     "name": "stderr",
     "output_type": "stream",
     "text": [
      "e:\\Other Practice\\.venv\\Lib\\site-packages\\tqdm\\auto.py:21: TqdmWarning: IProgress not found. Please update jupyter and ipywidgets. See https://ipywidgets.readthedocs.io/en/stable/user_install.html\n",
      "  from .autonotebook import tqdm as notebook_tqdm\n"
     ]
    },
    {
     "name": "stdout",
     "output_type": "stream",
     "text": [
      "Query: What is core to AI?\n",
      "Agentic RAG Answer: Machine learning is a core part of AI. Neural networks are a type of machine learning model.\n"
     ]
    }
   ],
   "source": [
    "from sentence_transformers import SentenceTransformer\n",
    "from sklearn.metrics.pairwise import cosine_similarity\n",
    "\n",
    "# Load embedding model\n",
    "model = SentenceTransformer('all-MiniLM-L6-v2')\n",
    "\n",
    "# Sample data for two agents\n",
    "documents_agent1 = [\n",
    "    \"Machine learning is a core part of AI.\",\n",
    "    \"AI is transforming industries.\"\n",
    "]\n",
    "\n",
    "documents_agent2 = [\n",
    "    \"Deep learning is used in image and speech recognition.\",\n",
    "    \"Neural networks are a type of machine learning model.\"\n",
    "]\n",
    "\n",
    "# Precompute embeddings\n",
    "emb_agent1 = [model.encode(doc) for doc in documents_agent1]\n",
    "emb_agent2 = [model.encode(doc) for doc in documents_agent2]\n",
    "\n",
    "# Simple Agentic RAG function\n",
    "def agentic_rag(query):\n",
    "    query_emb = model.encode(query)\n",
    "    \n",
    "    # Agent 1 retrieval\n",
    "    scores1 = [cosine_similarity([query_emb], [emb])[0][0] for emb in emb_agent1]\n",
    "    best1 = documents_agent1[scores1.index(max(scores1))]\n",
    "    \n",
    "    # Agent 2 retrieval\n",
    "    scores2 = [cosine_similarity([query_emb], [emb])[0][0] for emb in emb_agent2]\n",
    "    best2 = documents_agent2[scores2.index(max(scores2))]\n",
    "    \n",
    "    # Aggregator: combine both agents' outputs\n",
    "    response = best1 + \" \" + best2\n",
    "    return response\n",
    "\n",
    "# Example usage\n",
    "query = \"What is core to AI?\"\n",
    "answer = agentic_rag(query)\n",
    "\n",
    "print(\"Query:\", query)\n",
    "print(\"Agentic RAG Answer:\", answer)\n"
   ]
  },
  {
   "cell_type": "code",
   "execution_count": null,
   "id": "0e45aa04",
   "metadata": {},
   "outputs": [],
   "source": []
  }
 ],
 "metadata": {
  "kernelspec": {
   "display_name": "embeddings",
   "language": "python",
   "name": "python3"
  },
  "language_info": {
   "codemirror_mode": {
    "name": "ipython",
    "version": 3
   },
   "file_extension": ".py",
   "mimetype": "text/x-python",
   "name": "python",
   "nbconvert_exporter": "python",
   "pygments_lexer": "ipython3",
   "version": "3.12.0"
  }
 },
 "nbformat": 4,
 "nbformat_minor": 5
}
