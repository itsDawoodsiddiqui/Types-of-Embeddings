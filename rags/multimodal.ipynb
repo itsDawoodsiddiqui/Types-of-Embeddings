{
 "cells": [
  {
   "cell_type": "code",
   "execution_count": null,
   "id": "dd3e349f",
   "metadata": {},
   "outputs": [
    {
     "name": "stderr",
     "output_type": "stream",
     "text": [
      "e:\\Other Practice\\.venv\\Lib\\site-packages\\tqdm\\auto.py:21: TqdmWarning: IProgress not found. Please update jupyter and ipywidgets. See https://ipywidgets.readthedocs.io/en/stable/user_install.html\n",
      "  from .autonotebook import tqdm as notebook_tqdm\n"
     ]
    },
    {
     "name": "stdout",
     "output_type": "stream",
     "text": [
      "Query: What is core to AI?\n",
      "Multimodal RAG Answer: Machine learning is a core part of AI.\n"
     ]
    }
   ],
   "source": [
    "from sentence_transformers import SentenceTransformer\n",
    "from sklearn.metrics.pairwise import cosine_similarity\n",
    "import numpy as np\n",
    "\n",
    "# 1. Load models\n",
    "text_model = SentenceTransformer('all-MiniLM-L6-v2')  # For text\n",
    "# image_model = SentenceTransformer('clip-ViT-B-32') # For real image embeddings (optional)  <-- commented (committed)\n",
    "\n",
    "# 2. Sample data\n",
    "documents_text = [\n",
    "    \"Machine learning is a core part of AI.\",\n",
    "    \"AI is transforming industries.\"\n",
    "]\n",
    "# documents_images = [\n",
    "#     \"image1.png\",  # Example placeholders\n",
    "#     \"image2.png\"\n",
    "# ]  <-- commented (committed)\n",
    "\n",
    "# 3. Generate embeddings for text\n",
    "text_embeddings = [text_model.encode(doc) for doc in documents_text]\n",
    "\n",
    "# 4. Simple Multimodal RAG function\n",
    "def multimodal_rag_simple(query):\n",
    "    # Convert query to embedding\n",
    "    query_emb = text_model.encode(query)\n",
    "    \n",
    "    # Compare query with text documents\n",
    "    text_scores = [cosine_similarity([query_emb], [doc_emb])[0][0] for doc_emb in text_embeddings]\n",
    "    \n",
    "    # For simplicity, assign random scores to images (replace with real image-query similarity)\n",
    "    # image_scores = np.random.rand(len(documents_images))  <-- commented (committed)\n",
    "    \n",
    "    # Combine scores (only text for now)\n",
    "    all_scores = text_scores  # + list(image_scores)  <-- commented (committed)\n",
    "    \n",
    "    # Find the index of the best result\n",
    "    best_idx = all_scores.index(max(all_scores))\n",
    "    \n",
    "    # Return the corresponding text or image\n",
    "    return documents_text[best_idx]\n",
    "    # if best_idx < len(documents_text):\n",
    "    #     return documents_text[best_idx]\n",
    "    # else:\n",
    "    #     return documents_images[best_idx - len(documents_text)]  <-- commented (committed)\n",
    "\n",
    "# 5. Example usage\n",
    "query = \"What is core to AI?\"\n",
    "answer = multimodal_rag_simple(query)\n",
    "print(\"Query:\", query)\n",
    "print(\"Multimodal RAG Answer:\", answer)\n"
   ]
  },
  {
   "cell_type": "code",
   "execution_count": null,
   "id": "4363b65b",
   "metadata": {},
   "outputs": [],
   "source": []
  }
 ],
 "metadata": {
  "kernelspec": {
   "display_name": "embeddings",
   "language": "python",
   "name": "python3"
  },
  "language_info": {
   "codemirror_mode": {
    "name": "ipython",
    "version": 3
   },
   "file_extension": ".py",
   "mimetype": "text/x-python",
   "name": "python",
   "nbconvert_exporter": "python",
   "pygments_lexer": "ipython3",
   "version": "3.12.0"
  }
 },
 "nbformat": 4,
 "nbformat_minor": 5
}
