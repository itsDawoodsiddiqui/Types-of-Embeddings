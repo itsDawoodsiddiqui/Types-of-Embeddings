{
 "cells": [
  {
   "cell_type": "code",
   "execution_count": 1,
   "id": "6cbb4e45",
   "metadata": {},
   "outputs": [
    {
     "name": "stderr",
     "output_type": "stream",
     "text": [
      "e:\\Other Practice\\.venv\\Lib\\site-packages\\tqdm\\auto.py:21: TqdmWarning: IProgress not found. Please update jupyter and ipywidgets. See https://ipywidgets.readthedocs.io/en/stable/user_install.html\n",
      "  from .autonotebook import tqdm as notebook_tqdm\n"
     ]
    },
    {
     "name": "stdout",
     "output_type": "stream",
     "text": [
      "Query: What is a core part of AI?\n",
      "Answer: Machine learning is a core part of AI.\n"
     ]
    }
   ],
   "source": [
    "from sentence_transformers import SentenceTransformer\n",
    "from sklearn.metrics.pairwise import cosine_similarity\n",
    "\n",
    "# 1. Load model (Dense embedding model)\n",
    "model = SentenceTransformer('all-MiniLM-L6-v2')\n",
    "\n",
    "# 2. Sample documents\n",
    "documents = [\n",
    "    \"Machine learning is a core part of AI.\",\n",
    "    \"Deep learning is used in image and speech recognition.\",\n",
    "    \"AI is transforming many industries.\"\n",
    "]\n",
    "\n",
    "# 3. Compute embeddings for all documents\n",
    "doc_embeddings = [model.encode(doc) for doc in documents]\n",
    "\n",
    "# 4. Simple Vanilla RAG function\n",
    "def vanilla_rag(query):\n",
    "    # Convert query to embedding\n",
    "    query_emb = model.encode(query)\n",
    "    \n",
    "    # Compute similarity with each document\n",
    "    scores = [cosine_similarity([query_emb], [doc_emb])[0][0] for doc_emb in doc_embeddings]\n",
    "    \n",
    "    # Find index of the most similar document\n",
    "    best_idx = scores.index(max(scores))\n",
    "    \n",
    "    # Return that document as the answer\n",
    "    return documents[best_idx]\n",
    "\n",
    "# 5. Example usage\n",
    "query = \"What is a core part of AI?\"\n",
    "answer = vanilla_rag(query)\n",
    "\n",
    "print(\"Query:\", query)\n",
    "print(\"Answer:\", answer)\n"
   ]
  },
  {
   "cell_type": "code",
   "execution_count": null,
   "id": "3ddc63c0",
   "metadata": {},
   "outputs": [],
   "source": []
  }
 ],
 "metadata": {
  "kernelspec": {
   "display_name": "embeddings",
   "language": "python",
   "name": "python3"
  },
  "language_info": {
   "codemirror_mode": {
    "name": "ipython",
    "version": 3
   },
   "file_extension": ".py",
   "mimetype": "text/x-python",
   "name": "python",
   "nbconvert_exporter": "python",
   "pygments_lexer": "ipython3",
   "version": "3.12.0"
  }
 },
 "nbformat": 4,
 "nbformat_minor": 5
}
