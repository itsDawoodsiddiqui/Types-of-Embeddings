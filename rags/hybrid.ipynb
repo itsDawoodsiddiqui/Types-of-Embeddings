{
 "cells": [
  {
   "cell_type": "code",
   "execution_count": 1,
   "id": "cf4a3c13",
   "metadata": {},
   "outputs": [
    {
     "name": "stderr",
     "output_type": "stream",
     "text": [
      "e:\\Other Practice\\.venv\\Lib\\site-packages\\tqdm\\auto.py:21: TqdmWarning: IProgress not found. Please update jupyter and ipywidgets. See https://ipywidgets.readthedocs.io/en/stable/user_install.html\n",
      "  from .autonotebook import tqdm as notebook_tqdm\n"
     ]
    },
    {
     "name": "stdout",
     "output_type": "stream",
     "text": [
      "Query: What is core to AI?\n",
      "Hybrid RAG Answer: Machine learning is a core part of AI. AI is transforming industries.\n"
     ]
    }
   ],
   "source": [
    "from sentence_transformers import SentenceTransformer\n",
    "from sklearn.metrics.pairwise import cosine_similarity\n",
    "import numpy as np\n",
    "\n",
    "# Load embedding model\n",
    "model = SentenceTransformer('all-MiniLM-L6-v2')\n",
    "\n",
    "# Sample documents from two sources\n",
    "documents_source1 = [\n",
    "    \"Machine learning is a core part of AI.\",\n",
    "    \"AI is transforming industries.\"\n",
    "]\n",
    "\n",
    "documents_source2 = [\n",
    "    \"Deep learning is used in image and speech recognition.\",\n",
    "    \"Neural networks are a type of machine learning model.\"\n",
    "]\n",
    "\n",
    "# Precompute embeddings\n",
    "emb_source1 = [model.encode(doc) for doc in documents_source1]\n",
    "emb_source2 = [model.encode(doc) for doc in documents_source2]\n",
    "\n",
    "# Hybrid RAG function\n",
    "def hybrid_rag(query, top_k=2):\n",
    "    query_emb = model.encode(query)\n",
    "    \n",
    "    # Similarity with both sources\n",
    "    scores1 = [cosine_similarity([query_emb], [emb])[0][0] for emb in emb_source1]\n",
    "    scores2 = [cosine_similarity([query_emb], [emb])[0][0] for emb in emb_source2]\n",
    "    \n",
    "    # Combine documents and scores\n",
    "    all_docs = documents_source1 + documents_source2\n",
    "    all_scores = scores1 + scores2\n",
    "    \n",
    "    # Select top-k documents\n",
    "    top_indices = np.argsort(all_scores)[-top_k:][::-1]\n",
    "    top_docs = [all_docs[i] for i in top_indices]\n",
    "    \n",
    "    # Generate final answer (simplified)\n",
    "    response = \" \".join(top_docs)\n",
    "    return response\n",
    "\n",
    "# Example usage\n",
    "query = \"What is core to AI?\"\n",
    "answer = hybrid_rag(query, top_k=2)\n",
    "\n",
    "print(\"Query:\", query)\n",
    "print(\"Hybrid RAG Answer:\", answer)\n"
   ]
  },
  {
   "cell_type": "code",
   "execution_count": null,
   "id": "28a57373",
   "metadata": {},
   "outputs": [],
   "source": []
  }
 ],
 "metadata": {
  "kernelspec": {
   "display_name": "embeddings",
   "language": "python",
   "name": "python3"
  },
  "language_info": {
   "codemirror_mode": {
    "name": "ipython",
    "version": 3
   },
   "file_extension": ".py",
   "mimetype": "text/x-python",
   "name": "python",
   "nbconvert_exporter": "python",
   "pygments_lexer": "ipython3",
   "version": "3.12.0"
  }
 },
 "nbformat": 4,
 "nbformat_minor": 5
}
